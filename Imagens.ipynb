{
 "cells": [
  {
   "cell_type": "markdown",
   "metadata": {},
   "source": [
    "\n",
    "<Header> <h1 style='text-align: center;'> Filtros </h1> \n",
    "<p>Filtros são operadores matemáticos aplicados a uma imagem para realçar, suavizar ou destacar características específicas, como bordas, texturas ou padrões, com o objetivo de processar ou melhorar a qualidade da imagem.</p>\n",
    "\n",
    "</Header>"
   ]
  },
  {
   "cell_type": "markdown",
   "metadata": {},
   "source": [
    "<h2 style='text-align: center;'>Como um computador entende uma imagem</h2>\n",
    "<p>Imagens podem ser entendidas como um conjunto de pixels, que por sua vez, podem ser representados por números. Sendo assim, uma imagem é uma matriz de pixels</p>\n",
    "<img src='./imagens/matriz-quadrada.png'>\n",
    "<p><b>Imagens em Preto e branco:</b> Estas imagens podem ser entendidas como matrizes cujos valores variam entre 1 ou 0. Sendo a cor branca representada por 0 e a cor preta representada por 1.</p>\n",
    "<p><b>Imagens em tons de cinza:</b> Estas imagens representam tons de cinza variando entre preto e branco, com diferentes níveis de intensidade. Cada pixel da imagem possui um valor que representa a luminosidade em uma escala contínua, em vez de serem apenas preto e branco. Quanto mais próximo o valor estiver de 0, mais escuro o pixel, e quanto mais próximo estiver de 1, mais claro o pixel.</p>\n",
    "<p><b>Imagens coloridas:</b> Estas imagens contêm informações de cor e são representadas usando um modelo de cores, como o RGB (Red, Green, Blue). Cada pixel da imagem é composto por três componentes de cor: vermelho, verde e azul, e a combinação dessas cores em diferentes intensidades cria uma ampla gama de cores na imagem. Cada componente de cor pode variar em intensidade de 0 a 255 (ou 0 a 1, dependendo da escala), e a combinação dessas intensidades determina a cor do pixel. As imagens coloridas podem exibir uma ampla variedade de cores e detalhes.</p>"
   ]
  },
  {
   "cell_type": "markdown",
   "metadata": {},
   "source": [
    "<h1 style='text-align:center;'>Prática</h1>"
   ]
  },
  {
   "cell_type": "markdown",
   "metadata": {},
   "source": [
    "<h3>OpenCV</h3>"
   ]
  },
  {
   "cell_type": "markdown",
   "metadata": {},
   "source": [
    "<h4>Instalação</h4>"
   ]
  },
  {
   "cell_type": "code",
   "execution_count": 3,
   "metadata": {},
   "outputs": [
    {
     "name": "stdout",
     "output_type": "stream",
     "text": [
      "Requirement already satisfied: opencv-python in c:\\users\\arkadeuser\\appdata\\local\\packages\\pythonsoftwarefoundation.python.3.10_qbz5n2kfra8p0\\localcache\\local-packages\\python310\\site-packages (4.7.0.72)\n",
      "Requirement already satisfied: numpy>=1.21.2 in c:\\users\\arkadeuser\\appdata\\local\\packages\\pythonsoftwarefoundation.python.3.10_qbz5n2kfra8p0\\localcache\\local-packages\\python310\\site-packages (from opencv-python) (1.23.5)\n"
     ]
    }
   ],
   "source": [
    "# Instalando openCV\n",
    "# você pode instalar o OpenCV através do seu próprio terminal utilizando o pip.\n",
    "# utilize o comando pip install opencv-python\n",
    "# em notebooks jupyter pode ser instalado com ! \n",
    "!pip install opencv-python"
   ]
  },
  {
   "cell_type": "markdown",
   "metadata": {},
   "source": [
    "<h4>Abrindo uma imagem</h4>"
   ]
  },
  {
   "cell_type": "code",
   "execution_count": 2,
   "metadata": {},
   "outputs": [],
   "source": [
    "import cv2 \n",
    "img = cv2.imread('./imagens/imagem_cidade.jpg')"
   ]
  },
  {
   "cell_type": "markdown",
   "metadata": {},
   "source": [
    "#### Exibindo imagem "
   ]
  },
  {
   "cell_type": "code",
   "execution_count": 4,
   "metadata": {},
   "outputs": [],
   "source": [
    "if img is not None:\n",
    "    cv2.imshow('Imagem', img)  # Exibir a imagem em uma janela\n",
    "    cv2.waitKey(0)  # Aguardar até que uma tecla seja pressionada\n",
    "    cv2.destroyAllWindows()"
   ]
  },
  {
   "cell_type": "markdown",
   "metadata": {},
   "source": [
    "#### Imagem como matriz"
   ]
  },
  {
   "cell_type": "code",
   "execution_count": 3,
   "metadata": {},
   "outputs": [
    {
     "data": {
      "text/plain": [
       "array([[[ 89, 141, 134],\n",
       "        [101, 152, 145],\n",
       "        [ 47,  91,  84],\n",
       "        ...,\n",
       "        [128, 164, 180],\n",
       "        [142, 172, 191],\n",
       "        [137, 162, 182]],\n",
       "\n",
       "       [[106, 165, 157],\n",
       "        [ 59, 116, 107],\n",
       "        [ 99, 152, 143],\n",
       "        ...,\n",
       "        [100, 136, 152],\n",
       "        [140, 170, 189],\n",
       "        [135, 160, 180]],\n",
       "\n",
       "       [[ 66, 140, 128],\n",
       "        [ 93, 165, 152],\n",
       "        [ 97, 169, 156],\n",
       "        ...,\n",
       "        [148, 181, 200],\n",
       "        [143, 171, 188],\n",
       "        [135, 161, 178]],\n",
       "\n",
       "       ...,\n",
       "\n",
       "       [[165, 163, 169],\n",
       "        [165, 163, 169],\n",
       "        [165, 163, 169],\n",
       "        ...,\n",
       "        [164, 166, 174],\n",
       "        [164, 166, 176],\n",
       "        [164, 166, 176]],\n",
       "\n",
       "       [[166, 164, 170],\n",
       "        [165, 163, 169],\n",
       "        [164, 162, 168],\n",
       "        ...,\n",
       "        [165, 166, 176],\n",
       "        [163, 165, 175],\n",
       "        [163, 165, 175]],\n",
       "\n",
       "       [[166, 164, 170],\n",
       "        [165, 163, 169],\n",
       "        [164, 162, 168],\n",
       "        ...,\n",
       "        [165, 166, 176],\n",
       "        [163, 165, 175],\n",
       "        [163, 165, 175]]], dtype=uint8)"
      ]
     },
     "execution_count": 3,
     "metadata": {},
     "output_type": "execute_result"
    }
   ],
   "source": [
    "# Imagem como matriz\n",
    "img"
   ]
  },
  {
   "cell_type": "markdown",
   "metadata": {},
   "source": [
    "# OpenCV"
   ]
  },
  {
   "cell_type": "markdown",
   "metadata": {},
   "source": [
    "## Filtro de suavização"
   ]
  },
  {
   "cell_type": "code",
   "execution_count": 14,
   "metadata": {},
   "outputs": [],
   "source": [
    "def gaussianBlurFilter(image, kernel = (5,5)):\n",
    "    return cv2.GaussianBlur(image, kernel, 0)\n",
    "\n",
    "def medianBlurFilter(image, ksize = 5):\n",
    "    return cv2.medianBlur(image, ksize)\n",
    "\n",
    "def averageBlurFilter(image, ksize = 5):\n",
    "    return cv2.blur(image, (ksize, ksize))\n",
    "\n",
    "def bilateralBlurFilter(image, ksize = 5):\n",
    "    return cv2.bilateralFilter(image, ksize, ksize, ksize)\n",
    "\n",
    "# Filtros de suavização\n",
    "# kernel = 5\n",
    "gaussianImage = gaussianBlurFilter(img)\n",
    "medianBlurImage = medianBlurFilter(img)\n",
    "averageBlurImage = averageBlurFilter(img)\n",
    "bilateralBlurImage = bilateralBlurFilter(img)\n",
    "\n",
    "# Exibindo as imagens\n",
    "if medianBlurImage is not None and gaussianImage is not None:\n",
    "    cv2.imshow('MedianBlurImage', medianBlurImage) \n",
    "    cv2.imshow('gaussianImage', gaussianImage) \n",
    "    cv2.imshow('averageBlurImage', averageBlurImage)\n",
    "    cv2.imshow('bilateralBlurImage', bilateralBlurImage)\n",
    "\n",
    "\n",
    "    cv2.waitKey(0)  # Aguardar até que uma tecla seja pressionada\n",
    "    cv2.destroyAllWindows()"
   ]
  },
  {
   "cell_type": "code",
   "execution_count": 13,
   "metadata": {},
   "outputs": [],
   "source": [
    "import numpy as np\n",
    "\n",
    "# Filtros de detecção de bordas\n",
    "\n",
    "def cannyFilter(image):\n",
    "    return cv2.Canny(image, 100, 200)\n",
    "\n",
    "def sobelFilter(image):\n",
    "    return cv2.Sobel(image, cv2.CV_64F, 1, 0, ksize=5)\n",
    "\n",
    "def prewittFilter(image):\n",
    "    # Aplicar o filtro Prewitt horizontal\n",
    "    kernel_x = np.array([[-1, 0, 1], [-1, 0, 1], [-1, 0, 1]])\n",
    "    imagem_prewitt_x = cv2.filter2D(image, -1, kernel_x)\n",
    "\n",
    "    # Aplicar o filtro Prewitt vertical\n",
    "    kernel_y = np.array([[-1, -1, -1], [0, 0, 0], [1, 1, 1]])\n",
    "    imagem_prewitt_y = cv2.filter2D(image, -1, kernel_y)\n",
    "    return imagem_prewitt_x, imagem_prewitt_y\n",
    "\n",
    "img = cv2.imread('./imagens/imagem_cidade.jpg')\n",
    "\n",
    "# kernel = 5\n",
    "\n",
    "sobelImage = sobelFilter(img)\n",
    "cannyImage = cannyFilter(img)\n",
    "imagem_prewitt_x, imagem_prewitt_y = prewittFilter(img)\n",
    "\n",
    "# Exibindo as imagens\n",
    "if sobelImage is not None and cannyImage is not None:\n",
    "    cv2.imshow('sobelImage', sobelImage) \n",
    "    cv2.imshow('cannyImage', cannyImage)\n",
    "    cv2.imshow('imagem_prewitt_x', imagem_prewitt_x)\n",
    "    cv2.imshow('imagem_prewitt_y', imagem_prewitt_y)\n",
    "    cv2.waitKey(0)  # Aguardar até que uma tecla seja pressionada\n",
    "    cv2.destroyAllWindows()"
   ]
  },
  {
   "cell_type": "markdown",
   "metadata": {},
   "source": [
    "# Pillow"
   ]
  },
  {
   "cell_type": "markdown",
   "metadata": {},
   "source": []
  },
  {
   "cell_type": "code",
   "execution_count": null,
   "metadata": {},
   "outputs": [],
   "source": []
  }
 ],
 "metadata": {
  "kernelspec": {
   "display_name": "Python 3",
   "language": "python",
   "name": "python3"
  },
  "language_info": {
   "codemirror_mode": {
    "name": "ipython",
    "version": 3
   },
   "file_extension": ".py",
   "mimetype": "text/x-python",
   "name": "python",
   "nbconvert_exporter": "python",
   "pygments_lexer": "ipython3",
   "version": "3.10.11"
  }
 },
 "nbformat": 4,
 "nbformat_minor": 2
}
